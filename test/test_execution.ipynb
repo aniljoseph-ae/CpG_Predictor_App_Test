{
 "cells": [
  {
   "cell_type": "code",
   "execution_count": 4,
   "metadata": {},
   "outputs": [
    {
     "ename": "ModuleNotFoundError",
     "evalue": "No module named 'test.test_modularity'",
     "output_type": "error",
     "traceback": [
      "\u001b[1;31m---------------------------------------------------------------------------\u001b[0m",
      "\u001b[1;31mModuleNotFoundError\u001b[0m                       Traceback (most recent call last)",
      "Cell \u001b[1;32mIn[4], line 10\u001b[0m\n\u001b[0;32m      7\u001b[0m sys\u001b[38;5;241m.\u001b[39mpath\u001b[38;5;241m.\u001b[39mappend(project_root)\n\u001b[0;32m      9\u001b[0m \u001b[38;5;66;03m# Import the testing function\u001b[39;00m\n\u001b[1;32m---> 10\u001b[0m \u001b[38;5;28;01mfrom\u001b[39;00m \u001b[38;5;21;01mtest\u001b[39;00m\u001b[38;5;21;01m.\u001b[39;00m\u001b[38;5;21;01mtest_modularity\u001b[39;00m \u001b[38;5;28;01mimport\u001b[39;00m test_sequences\n",
      "\u001b[1;31mModuleNotFoundError\u001b[0m: No module named 'test.test_modularity'"
     ]
    }
   ],
   "source": [
    "# 📦 Import test function\n",
    "import sys\n",
    "import os\n",
    "\n",
    "# Add project root directory to Python path\n",
    "project_root = os.path.abspath(\"..\")  # Adjust if notebook is in notebooks/ folder\n",
    "sys.path.append(project_root)\n",
    "\n",
    "# Import the testing function\n",
    "from test.test_modularity import test_sequences\n"
   ]
  }
 ],
 "metadata": {
  "kernelspec": {
   "display_name": "AI_env",
   "language": "python",
   "name": "python3"
  },
  "language_info": {
   "codemirror_mode": {
    "name": "ipython",
    "version": 3
   },
   "file_extension": ".py",
   "mimetype": "text/x-python",
   "name": "python",
   "nbconvert_exporter": "python",
   "pygments_lexer": "ipython3",
   "version": "3.9.21"
  }
 },
 "nbformat": 4,
 "nbformat_minor": 2
}
